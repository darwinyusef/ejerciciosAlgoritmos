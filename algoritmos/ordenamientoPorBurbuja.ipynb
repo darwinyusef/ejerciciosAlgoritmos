{
  "nbformat": 4,
  "nbformat_minor": 0,
  "metadata": {
    "colab": {
      "private_outputs": true,
      "provenance": [],
      "authorship_tag": "ABX9TyN2b2Ra6RsRBV9BmgZP3bE7",
      "include_colab_link": true
    },
    "kernelspec": {
      "name": "python3",
      "display_name": "Python 3"
    },
    "language_info": {
      "name": "python"
    }
  },
  "cells": [
    {
      "cell_type": "markdown",
      "metadata": {
        "id": "view-in-github",
        "colab_type": "text"
      },
      "source": [
        "<a href=\"https://colab.research.google.com/github/darwinyusef/ejerciciosAlgoritmos/blob/master/algoritmos/ordenamientoPorBurbuja.ipynb\" target=\"_parent\"><img src=\"https://colab.research.google.com/assets/colab-badge.svg\" alt=\"Open In Colab\"/></a>"
      ]
    },
    {
      "cell_type": "code",
      "execution_count": null,
      "metadata": {
        "id": "ZCxZLnBE5XAa"
      },
      "outputs": [],
      "source": [
        "!pip install gradio gTTS"
      ]
    },
    {
      "cell_type": "code",
      "source": [
        "import gradio as gr\n",
        "from gtts import gTTS\n",
        "import tempfile\n",
        "\n",
        "def bubble_sort(arr_str):\n",
        "    \"\"\"\n",
        "    Esta función recibe una cadena con números separados por comas,\n",
        "    realiza el algoritmo de Ordenamiento por Burbuja para ordenarlos,\n",
        "    y devuelve el resultado en texto y en audio (en inglés, con pronunciación lenta).\n",
        "    \"\"\"\n",
        "    # Convertir la cadena a una lista de enteros\n",
        "    try:\n",
        "        arr = [int(x.strip()) for x in arr_str.split(',')]\n",
        "    except ValueError:\n",
        "        return \"Error: Ingresa una lista válida de números separados por comas.\", None\n",
        "\n",
        "    n = len(arr)\n",
        "    # Algoritmo de Ordenamiento por Burbuja\n",
        "    for i in range(n):\n",
        "        for j in range(0, n-i-1):\n",
        "            if arr[j] > arr[j+1]:\n",
        "                arr[j], arr[j+1] = arr[j+1], arr[j]\n",
        "\n",
        "    # Crear mensajes:\n",
        "    # Texto en español para mostrar en la interfaz.\n",
        "    result_text = \"Lista ordenada: \" + \", \".join(map(str, arr))\n",
        "    # Mensaje en inglés para el audio (para practicar la pronunciación lenta).\n",
        "    audio_message = \"La Lista ordenada es: \" + \", \".join(map(str, arr))\n",
        "\n",
        "    # Convertir el mensaje a audio usando gTTS (en inglés, pronunciado lentamente)\n",
        "    tts = gTTS(text=audio_message, lang='es', slow=False)\n",
        "    temp_file = tempfile.NamedTemporaryFile(delete=False, suffix=\".mp3\")\n",
        "    tts.save(temp_file.name)\n",
        "\n",
        "    return result_text, temp_file.name\n",
        "\n",
        "# Definición de la interfaz de Gradio\n",
        "iface = gr.Interface(\n",
        "    fn=bubble_sort,\n",
        "    inputs=gr.Textbox(label=\"Lista (números separados por coma)\", placeholder=\"Ej: 34, 7, 23, 32, 5, 62\"),\n",
        "    outputs=[gr.Textbox(label=\"Resultado\"), gr.Audio(label=\"Audio del Resultado\")],\n",
        "    title=\"Algoritmo de Ordenamiento por Burbuja con Gradio\",\n",
        "    description=(\"Ingresa una lista de números separados por comas y el algoritmo de ordenamiento por burbuja \"\n",
        "                 \"ordenará la lista. El resultado se mostrará en texto y se reproducirá en audio en inglés \"\n",
        "                 \"con una pronunciación lenta para que puedas practicar.\")\n",
        ")\n",
        "\n",
        "iface.launch()"
      ],
      "metadata": {
        "id": "UON5Wa4j5lcq"
      },
      "execution_count": null,
      "outputs": []
    },
    {
      "cell_type": "code",
      "source": [
        "import gradio as gr\n",
        "from gtts import gTTS\n",
        "import tempfile\n",
        "\n",
        "def explain_bubble_sort():\n",
        "    \"\"\"\n",
        "    Esta función retorna una explicación en texto del algoritmo de ordenamiento por burbuja\n",
        "    y genera un audio (en inglés, pronunciado lentamente) con dicha explicación.\n",
        "    \"\"\"\n",
        "    # Explicación en español\n",
        "    explanation_text = (\n",
        "        \"El algoritmo de ordenamiento por burbuja (Bubble Sort) es un método sencillo para ordenar \"\n",
        "        \"una lista de elementos. Funciona recorriendo la lista y comparando cada par de elementos adyacentes, \"\n",
        "        \"intercambiándolos si están en el orden incorrecto. Con cada pasada, el elemento más grande 'burbujea' \"\n",
        "        \"hacia el final de la lista, quedando en su posición correcta. Este proceso se repite para todos los elementos \"\n",
        "        \"restantes hasta que la lista esté completamente ordenada. Aunque su complejidad es O(n²) y no es eficiente para \"\n",
        "        \"listas muy grandes, es ideal para entender los conceptos básicos de los algoritmos de ordenamiento.\"\n",
        "    )\n",
        "\n",
        "    # Mensaje en inglés para el audio (para practicar pronunciación lenta)\n",
        "    audio_message = (\n",
        "        \"Bubble Sort is a simple sorting algorithm that works by repeatedly stepping through the list, \"\n",
        "        \"comparing adjacent elements and swapping them if they are in the wrong order. With each pass, the largest \"\n",
        "        \"unsorted element bubbles to its correct position. This process is repeated until the entire list is sorted. \"\n",
        "        \"Although its efficiency is O(n squared), it is a great way to understand basic sorting concepts.\"\n",
        "    )\n",
        "\n",
        "    # Generar el audio usando gTTS con slow=True para una pronunciación más lenta\n",
        "    tts = gTTS(text=audio_message, lang='en', slow=True)\n",
        "    temp_file = tempfile.NamedTemporaryFile(delete=False, suffix=\".mp3\")\n",
        "    tts.save(temp_file.name)\n",
        "\n",
        "    return explanation_text, temp_file.name\n",
        "\n",
        "# Definición de la interfaz de Gradio con una imagen incluida en la descripción (usando Markdown)\n",
        "iface = gr.Interface(\n",
        "    fn=explain_bubble_sort,\n",
        "    inputs=None,\n",
        "    outputs=[\n",
        "        gr.Textbox(label=\"Explicación del Algoritmo\"),\n",
        "        gr.Audio(label=\"Audio de la Explicación\")\n",
        "    ],\n",
        "    title=\"Explicación del Algoritmo de Ordenamiento por Burbuja\",\n",
        "    description=\"\"\"\n",
        "**¿Qué es Bubble Sort?**\n",
        "\n",
        "El **Bubble Sort** es un algoritmo de ordenamiento que compara elementos adyacentes y los intercambia si están en el orden incorrecto.\n",
        "Con cada iteración, el mayor elemento se desplaza hacia el final de la lista, como una burbuja que sube a la superficie.\n",
        "\n",
        "![Bubble Sort](https://upload.wikimedia.org/wikipedia/commons/c/c8/Bubble-sort-example-300px.gif)\n",
        "\n",
        "Esta imagen ilustra cómo los elementos se van \"burbujando\" hasta quedar en orden.\n",
        "    \"\"\"\n",
        ")\n",
        "\n",
        "iface.launch()"
      ],
      "metadata": {
        "id": "eo3vKGRj6eQj"
      },
      "execution_count": null,
      "outputs": []
    }
  ]
}