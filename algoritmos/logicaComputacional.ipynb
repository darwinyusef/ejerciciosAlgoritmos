{
  "nbformat": 4,
  "nbformat_minor": 0,
  "metadata": {
    "colab": {
      "private_outputs": true,
      "provenance": [],
      "authorship_tag": "ABX9TyN9Xc4ZimTzLw9uiHId0O6k",
      "include_colab_link": true
    },
    "kernelspec": {
      "name": "python3",
      "display_name": "Python 3"
    },
    "language_info": {
      "name": "python"
    }
  },
  "cells": [
    {
      "cell_type": "markdown",
      "metadata": {
        "id": "view-in-github",
        "colab_type": "text"
      },
      "source": [
        "<a href=\"https://colab.research.google.com/github/darwinyusef/ejerciciosAlgoritmos/blob/master/algoritmos/logicaComputacional.ipynb\" target=\"_parent\"><img src=\"https://colab.research.google.com/assets/colab-badge.svg\" alt=\"Open In Colab\"/></a>"
      ]
    },
    {
      "cell_type": "code",
      "execution_count": null,
      "metadata": {
        "id": "QdyddQa4qw1E"
      },
      "outputs": [],
      "source": [
        "def truth_table_conjunction():\n",
        "    print(\"p | q | p ∧ q (AND)\")\n",
        "    for p in [True, False]:\n",
        "        for q in [True, False]:\n",
        "            print(f\"{p} | {q} | {p and q}\")\n",
        "\n",
        "def truth_table_disjunction():\n",
        "    print(\"p | q | p ∨ q (OR)\")\n",
        "    for p in [True, False]:\n",
        "        for q in [True, False]:\n",
        "            print(f\"{p} | {q} | {p or q}\")\n",
        "\n",
        "def truth_table_implication():\n",
        "    print(\"p | q | p → q (not OR)\")\n",
        "    for p in [True, False]:\n",
        "        for q in [True, False]:\n",
        "            print(f\"{p} | {q} | {not p or q}\")\n",
        "\n",
        "def truth_table_biconditional():\n",
        "    print(\"p | q | p ↔ q (EQUAL)\")\n",
        "    for p in [True, False]:\n",
        "        for q in [True, False]:\n",
        "            print(f\"{p} | {q} | {p == q}\")\n",
        "\n",
        "def truth_table_xor():\n",
        "    print(\"p | q | p ⊕ q (NOT EQUAL)\")\n",
        "    for p in [True, False]:\n",
        "        for q in [True, False]:\n",
        "            print(f\"{p} | {q} | {p != q}\")\n",
        "\n",
        "def truth_table_xand():\n",
        "    print(\"p | q | p XAND q\")\n",
        "    print(\"-\" * 15)\n",
        "    for p in [True, False]:\n",
        "        for q in [True, False]:\n",
        "            a = p != q\n",
        "            anot = not a\n",
        "            print(f\"{p} | {q} | {anot}\")  # XAND es NOT XNOR\n",
        "\n",
        "\n",
        "\n",
        "# Llamar las funciones para ver las tablas\n",
        "truth_table_conjunction()\n",
        "truth_table_disjunction()\n",
        "truth_table_implication()\n",
        "truth_table_biconditional()\n",
        "truth_table_xor()\n",
        "truth_table_xand()"
      ]
    },
    {
      "cell_type": "code",
      "source": [
        "def generate_truth_table(operator):\n",
        "    print(\"p | q | resultado\")\n",
        "    for p in [True, False]:\n",
        "        for q in [True, False]:\n",
        "            result = eval(operator)\n",
        "            print(f\"{operator}: {p} | {q} | {result}\")\n",
        "\n",
        "# Ejemplo de uso:\n",
        "generate_truth_table(\"p and q\")  # Conjunción AND\n",
        "generate_truth_table(\"p or q\")   # Disyunción OR\n",
        "generate_truth_table(\"not p or q\")  # Condicional / Implicación NOT OR\n",
        "generate_truth_table(\"p == q\")   # Bicondicional EQUAL\n",
        "generate_truth_table(\"p != q\")   # Disyunción Exclusiva (XOR) NOT EQUAL\n",
        "generate_truth_table(\"not (p != q)\")   # Disyunción Exclusiva (XAND) NOT (NOT EQUAL) = XOR"
      ],
      "metadata": {
        "id": "qZ7YcGyVrN-9"
      },
      "execution_count": null,
      "outputs": []
    },
    {
      "cell_type": "code",
      "source": [
        "import random\n",
        "\n",
        "def logic_quiz():\n",
        "    operations = {\n",
        "        \"p and q\": lambda p, q: p and q,\n",
        "        \"p or q\": lambda p, q: p or q,\n",
        "        \"not p or q\": lambda p, q: not p or q,\n",
        "        \"p == q\": lambda p, q: p == q,\n",
        "        \"p != q\": lambda p, q: p != q\n",
        "    }\n",
        "\n",
        "    op, func = random.choice(list(operations.items()))\n",
        "    p = random.choice([True, False])\n",
        "    q = random.choice([True, False])\n",
        "\n",
        "    user_answer = input(f\"¿Cuál es el resultado de {p} {op} {q}? (True/False): \").strip().lower()\n",
        "    correct_answer = func(p, q)\n",
        "\n",
        "    if user_answer == str(correct_answer).lower():\n",
        "        print(\"¡Correcto! 🎉\")\n",
        "    else:\n",
        "        print(f\"Incorrecto. La respuesta correcta era {correct_answer}\")\n",
        "\n",
        "logic_quiz()\n"
      ],
      "metadata": {
        "id": "L_yRSjD1rtut"
      },
      "execution_count": null,
      "outputs": []
    }
  ]
}