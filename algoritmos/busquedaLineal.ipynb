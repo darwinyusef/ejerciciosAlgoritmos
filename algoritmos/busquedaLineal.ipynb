{
  "nbformat": 4,
  "nbformat_minor": 0,
  "metadata": {
    "colab": {
      "private_outputs": true,
      "provenance": [],
      "authorship_tag": "ABX9TyOQr0BabSEyK6BZ7EwBzUi/",
      "include_colab_link": true
    },
    "kernelspec": {
      "name": "python3",
      "display_name": "Python 3"
    },
    "language_info": {
      "name": "python"
    }
  },
  "cells": [
    {
      "cell_type": "markdown",
      "metadata": {
        "id": "view-in-github",
        "colab_type": "text"
      },
      "source": [
        "<a href=\"https://colab.research.google.com/github/darwinyusef/ejerciciosAlgoritmos/blob/master/algoritmos/busquedaLineal.ipynb\" target=\"_parent\"><img src=\"https://colab.research.google.com/assets/colab-badge.svg\" alt=\"Open In Colab\"/></a>"
      ]
    },
    {
      "cell_type": "code",
      "source": [
        "!pip install gradio gTTS"
      ],
      "metadata": {
        "id": "QOJ__BR83onU"
      },
      "execution_count": null,
      "outputs": []
    },
    {
      "cell_type": "code",
      "execution_count": null,
      "metadata": {
        "id": "xwM6sV7i3i8z"
      },
      "outputs": [],
      "source": [
        "# Instala las dependencias (ejecuta esta celda si es la primera vez)\n",
        "!pip install gradio gTTS\n",
        "\n",
        "import gradio as gr\n",
        "from gtts import gTTS\n",
        "import tempfile\n",
        "\n",
        "def linear_search(arr_str, target_str):\n",
        "    \"\"\"\n",
        "    Esta función realiza una búsqueda lineal en una lista de números.\n",
        "    La lista se ingresa como una cadena con números separados por comas.\n",
        "    Además, se genera un audio (en inglés, pronunciado lentamente) con el resultado.\n",
        "    \"\"\"\n",
        "    # Convertir la cadena a una lista de enteros\n",
        "    try:\n",
        "        arr = [int(x.strip()) for x in arr_str.split(',')]\n",
        "    except ValueError:\n",
        "        return \"Error: Por favor ingrese una lista de números separados por comas.\", None\n",
        "\n",
        "    # Convertir el objetivo a entero\n",
        "    try:\n",
        "        target = int(target_str)\n",
        "    except ValueError:\n",
        "        return \"Error: Por favor ingrese un número válido como objetivo.\", None\n",
        "\n",
        "    # Búsqueda lineal: iteramos sobre la lista para encontrar el elemento\n",
        "    for i, num in enumerate(arr):\n",
        "        if num == target:\n",
        "            result = f\"Elemento encontrado en el índice {i}\"\n",
        "            break\n",
        "    else:\n",
        "        result = \"Elemento no encontrado\"\n",
        "\n",
        "    # Convertir el resultado a audio usando gTTS (con 'slow=True' para una pronunciación más lenta)\n",
        "    tts = gTTS(text=result, lang='es', slow=False)\n",
        "    temp_file = tempfile.NamedTemporaryFile(delete=False, suffix=\".mp3\")\n",
        "    tts.save(temp_file.name)\n",
        "\n",
        "    return result, temp_file.name\n",
        "\n",
        "# Definición de la interfaz de Gradio\n",
        "iface = gr.Interface(\n",
        "    fn=linear_search,\n",
        "    inputs=[\n",
        "        gr.Textbox(label=\"Lista (números separados por coma)\", placeholder=\"Ej: 4, 8, 15, 16, 23, 42\"),\n",
        "        gr.Textbox(label=\"Objetivo\", placeholder=\"Ej: 15\")\n",
        "    ],\n",
        "    outputs=[\n",
        "        gr.Textbox(label=\"Resultado\"),\n",
        "        gr.Audio(label=\"Audio del Resultado\")\n",
        "    ],\n",
        "    title=\"Algoritmo de Búsqueda Lineal con Gradio\",\n",
        "    description=(\"Ingrese una lista de números y un número objetivo. \"\n",
        "                 \"El programa realizará una búsqueda lineal y mostrará el resultado tanto en texto como en audio \"\n",
        "                 \"(el audio se reproducirá lentamente para facilitar la práctica de frases en inglés).\")\n",
        ")\n",
        "\n",
        "iface.launch()\n"
      ]
    }
  ]
}